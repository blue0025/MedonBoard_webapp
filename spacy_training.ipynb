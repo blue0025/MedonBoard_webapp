{
 "cells": [
  {
   "cell_type": "code",
   "execution_count": 1,
   "id": "da30e44d-dbfa-46d0-8acc-7c3e1052467e",
   "metadata": {},
   "outputs": [
    {
     "ename": "ModuleNotFoundError",
     "evalue": "No module named 'spacy'",
     "output_type": "error",
     "traceback": [
      "\u001b[31m---------------------------------------------------------------------------\u001b[39m",
      "\u001b[31mModuleNotFoundError\u001b[39m                       Traceback (most recent call last)",
      "\u001b[36mCell\u001b[39m\u001b[36m \u001b[39m\u001b[32mIn[1]\u001b[39m\u001b[32m, line 2\u001b[39m\n\u001b[32m      1\u001b[39m \u001b[38;5;28;01mimport\u001b[39;00m\u001b[38;5;250m \u001b[39m\u001b[34;01mjson\u001b[39;00m\n\u001b[32m----> \u001b[39m\u001b[32m2\u001b[39m \u001b[38;5;28;01mimport\u001b[39;00m\u001b[38;5;250m \u001b[39m\u001b[34;01mspacy\u001b[39;00m\n\u001b[32m      3\u001b[39m \u001b[38;5;28;01mfrom\u001b[39;00m\u001b[38;5;250m \u001b[39m\u001b[34;01mspacy\u001b[39;00m\u001b[34;01m.\u001b[39;00m\u001b[34;01mtraining\u001b[39;00m\u001b[38;5;250m \u001b[39m\u001b[38;5;28;01mimport\u001b[39;00m Example\n\u001b[32m      4\u001b[39m \u001b[38;5;28;01mfrom\u001b[39;00m\u001b[38;5;250m \u001b[39m\u001b[34;01mspacy\u001b[39;00m\u001b[34;01m.\u001b[39;00m\u001b[34;01mtokens\u001b[39;00m\u001b[38;5;250m \u001b[39m\u001b[38;5;28;01mimport\u001b[39;00m DocBin\n",
      "\u001b[31mModuleNotFoundError\u001b[39m: No module named 'spacy'"
     ]
    }
   ],
   "source": [
    "import json\n",
    "import spacy\n",
    "from spacy.training import Example\n",
    "from spacy.tokens import DocBin\n",
    "\n",
    "with open(\"ner_data.json\", \"r\") as f:\n",
    "    raw_data = json.load(f)\n",
    "\n",
    "TRAIN_DATA = []\n",
    "for item in raw_data:\n",
    "    text = item['data']['text']\n",
    "    entities = []\n",
    "    for ann in item['annotations'][0]['result']:\n",
    "        if ann['type'] == 'labels':\n",
    "            start = ann['value']['start']\n",
    "            end = ann['value']['end']\n",
    "            label = ann['value']['labels'][0]\n",
    "            entities.append((start, end, label))\n",
    "    TRAIN_DATA.append((text, {\"entities\": entities}))\n",
    "\n",
    "# Convert to spaCy's format\n",
    "nlp = spacy.blank(\"en\")\n",
    "db = DocBin()\n",
    "for text, annot in TRAIN_DATA:\n",
    "    doc = nlp.make_doc(text)\n",
    "    example = Example.from_dict(doc, annot)\n",
    "    db.add(example.reference)\n",
    "db.to_disk(\"training_data.spacy\")\n",
    "print(\"✅ training_data.spacy saved.\")\n"
   ]
  },
  {
   "cell_type": "code",
   "execution_count": 2,
   "id": "4631489a-d353-4e42-89fd-fac6d01d1185",
   "metadata": {},
   "outputs": [
    {
     "name": "stdout",
     "output_type": "stream",
     "text": [
      "✅ training_data.spacy saved.\n"
     ]
    },
    {
     "name": "stderr",
     "output_type": "stream",
     "text": [
      "/opt/anaconda3/envs/medonboard_nlp/lib/python3.12/site-packages/spacy/training/iob_utils.py:149: UserWarning: [W030] Some entities could not be aligned in the text \"A 52-year-old male presented with chest tightness,...\" with entities \"[(250, 277, 'DISEASE'), (34, 49, 'SYMPTOM'), (51, ...\". Use `spacy.training.offsets_to_biluo_tags(nlp.make_doc(text), entities)` to check the alignment. Misaligned entities ('-') will be ignored during training.\n",
      "  warnings.warn(\n",
      "/opt/anaconda3/envs/medonboard_nlp/lib/python3.12/site-packages/spacy/training/iob_utils.py:149: UserWarning: [W030] Some entities could not be aligned in the text \"A 22-year-old female presented with lower abdomina...\" with entities \"[(174, 201, 'DISEASE'), (36, 56, 'SYMPTOM'), (58, ...\". Use `spacy.training.offsets_to_biluo_tags(nlp.make_doc(text), entities)` to check the alignment. Misaligned entities ('-') will be ignored during training.\n",
      "  warnings.warn(\n",
      "/opt/anaconda3/envs/medonboard_nlp/lib/python3.12/site-packages/spacy/training/iob_utils.py:149: UserWarning: [W030] Some entities could not be aligned in the text \"A 25-year-old woman reported missed periods, morni...\" with entities \"[(150, 171, 'DISEASE'), (184, 194, 'MEDICINE'), (2...\". Use `spacy.training.offsets_to_biluo_tags(nlp.make_doc(text), entities)` to check the alignment. Misaligned entities ('-') will be ignored during training.\n",
      "  warnings.warn(\n",
      "/opt/anaconda3/envs/medonboard_nlp/lib/python3.12/site-packages/spacy/training/iob_utils.py:149: UserWarning: [W030] Some entities could not be aligned in the text \"A 42-year-old male presented with jaundice, dark u...\" with entities \"[(162, 179, 'DISEASE'), (34, 42, 'SYMPTOM'), (44, ...\". Use `spacy.training.offsets_to_biluo_tags(nlp.make_doc(text), entities)` to check the alignment. Misaligned entities ('-') will be ignored during training.\n",
      "  warnings.warn(\n",
      "/opt/anaconda3/envs/medonboard_nlp/lib/python3.12/site-packages/spacy/training/iob_utils.py:149: UserWarning: [W030] Some entities could not be aligned in the text \"A 36-year-old woman had a butterfly-shaped rash on...\" with entities \"[(138, 165, 'DISEASE'), (26, 47, 'SYMPTOM'), (61, ...\". Use `spacy.training.offsets_to_biluo_tags(nlp.make_doc(text), entities)` to check the alignment. Misaligned entities ('-') will be ignored during training.\n",
      "  warnings.warn(\n",
      "/opt/anaconda3/envs/medonboard_nlp/lib/python3.12/site-packages/spacy/training/iob_utils.py:149: UserWarning: [W030] Some entities could not be aligned in the text \"A 30-year-old male had red, inflamed tonsils with ...\" with entities \"[(120, 145, 'DISEASE'), (65, 70, 'SYMPTOM'), (37, ...\". Use `spacy.training.offsets_to_biluo_tags(nlp.make_doc(text), entities)` to check the alignment. Misaligned entities ('-') will be ignored during training.\n",
      "  warnings.warn(\n",
      "/opt/anaconda3/envs/medonboard_nlp/lib/python3.12/site-packages/spacy/training/iob_utils.py:149: UserWarning: [W030] Some entities could not be aligned in the text \"A 63-year-old female presented with sudden vision ...\" with entities \"[(123, 142, 'DISEASE'), (43, 54, 'SYMPTOM'), (67, ...\". Use `spacy.training.offsets_to_biluo_tags(nlp.make_doc(text), entities)` to check the alignment. Misaligned entities ('-') will be ignored during training.\n",
      "  warnings.warn(\n",
      "/opt/anaconda3/envs/medonboard_nlp/lib/python3.12/site-packages/spacy/training/iob_utils.py:149: UserWarning: [W030] Some entities could not be aligned in the text \"A 48-year-old male presented with recurrent painfu...\" with entities \"[(109, 125, 'DISEASE'), (52, 64, 'SYMPTOM'), (65, ...\". Use `spacy.training.offsets_to_biluo_tags(nlp.make_doc(text), entities)` to check the alignment. Misaligned entities ('-') will be ignored during training.\n",
      "  warnings.warn(\n",
      "/opt/anaconda3/envs/medonboard_nlp/lib/python3.12/site-packages/spacy/training/iob_utils.py:149: UserWarning: [W030] Some entities could not be aligned in the text \"A 28-year-old male complained of a sore throat, pa...\" with entities \"[(136, 161, 'DISEASE'), (35, 46, 'SYMPTOM'), (48, ...\". Use `spacy.training.offsets_to_biluo_tags(nlp.make_doc(text), entities)` to check the alignment. Misaligned entities ('-') will be ignored during training.\n",
      "  warnings.warn(\n",
      "/opt/anaconda3/envs/medonboard_nlp/lib/python3.12/site-packages/spacy/training/iob_utils.py:149: UserWarning: [W030] Some entities could not be aligned in the text \"A 40-year-old male presented with yellowing of eye...\" with entities \"[(113, 124, 'DISEASE'), (34, 60, 'SYMPTOM'), (62, ...\". Use `spacy.training.offsets_to_biluo_tags(nlp.make_doc(text), entities)` to check the alignment. Misaligned entities ('-') will be ignored during training.\n",
      "  warnings.warn(\n"
     ]
    }
   ],
   "source": [
    "import json\n",
    "import spacy\n",
    "from spacy.training import Example\n",
    "from spacy.tokens import DocBin\n",
    "\n",
    "with open(\"ner_data.json\", \"r\") as f:\n",
    "    raw_data = json.load(f)\n",
    "\n",
    "TRAIN_DATA = []\n",
    "for item in raw_data:\n",
    "    text = item['data']['text']\n",
    "    entities = []\n",
    "    for ann in item['annotations'][0]['result']:\n",
    "        if ann['type'] == 'labels':\n",
    "            start = ann['value']['start']\n",
    "            end = ann['value']['end']\n",
    "            label = ann['value']['labels'][0]\n",
    "            entities.append((start, end, label))\n",
    "    TRAIN_DATA.append((text, {\"entities\": entities}))\n",
    "\n",
    "# Convert to spaCy's format\n",
    "nlp = spacy.blank(\"en\")\n",
    "db = DocBin()\n",
    "for text, annot in TRAIN_DATA:\n",
    "    doc = nlp.make_doc(text)\n",
    "    example = Example.from_dict(doc, annot)\n",
    "    db.add(example.reference)\n",
    "db.to_disk(\"training_data.spacy\")\n",
    "print(\"✅ training_data.spacy saved.\")\n"
   ]
  },
  {
   "cell_type": "code",
   "execution_count": null,
   "id": "3f78d7ae-fec4-484f-af46-3c97355f43d1",
   "metadata": {},
   "outputs": [],
   "source": []
  }
 ],
 "metadata": {
  "kernelspec": {
   "display_name": "Python 3 (ipykernel)",
   "language": "python",
   "name": "python3"
  },
  "language_info": {
   "codemirror_mode": {
    "name": "ipython",
    "version": 3
   },
   "file_extension": ".py",
   "mimetype": "text/x-python",
   "name": "python",
   "nbconvert_exporter": "python",
   "pygments_lexer": "ipython3",
   "version": "3.12.2"
  }
 },
 "nbformat": 4,
 "nbformat_minor": 5
}
